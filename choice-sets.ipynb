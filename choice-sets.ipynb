{
 "cells": [
  {
   "cell_type": "markdown",
   "metadata": {},
   "source": [
    "# State-specific Choice Sets\n",
    "\n",
    "This notebook discusses how we want to implement state spaces which are aware of dense dimension and flexible choice sets.\n",
    "\n",
    "## Design\n",
    "\n",
    "A `StateSpace` consists of multiple `SubStateSpace`s for each combination of dense dimension vector, period, and choice set. First, we have separated state spaces by dense dimension to avoid massive duplication. Secondly, we further want to divide state spaces by periods to make it more explicit. Implicitly, we already work with periodic state spaces. We also guess that many flexible choice sets are connected to periods (tracking system, retirement) and with periodic state spaces we can exploit the sparseness. Thirdly, we divide by choice sets such that `wages`, etc. contain only the most necessary information. This will speed up the Monte Carlo simulations and make the inadmissiblity penalty redundant for the full solution.\n",
    "\n",
    "For example, the model `kw_94_one` has one `SubStateSpace` for each period from 0 to 9. Starting with period 10 some states have reached maximum years of schooling and have only three available alternatives. Thus, for each period from 10 and on, there are two `SubStateSpace`s for each period. All `SubStateSpace`s are captured in one `StateSpace` class which manages the access and communication (continuation values) between the `SubStateSpaces`.\n",
    "\n",
    "The `StateSpace` captures all subordinate elements. It comprises ..\n",
    "\n",
    "- of functions to get periodical information, continuation values, etc..\n",
    "- A list of parts of the core state space divided by periods and choice sets (not defined by dense vectors).\n",
    "- A dictionary of dense vectors which contain their dense covariates.\n",
    "\n",
    "Every `SubStateSpace` has its ...\n",
    "\n",
    "- index of a period-choice-set-specific part of the core state space. We can only have an index, otherwise we would duplicate the core state space across all dense dimension which we wanted to avoid in the first place.\n",
    "- index for a specific dense vector plus its dense covariates. (Does not have to be an index, we can also have a copy)\n",
    "- available choices to efficiently generate the rewards.\n",
    "\n",
    "Let us start with the implementation of the state space."
   ]
  },
  {
   "cell_type": "code",
   "execution_count": 15,
   "metadata": {},
   "outputs": [],
   "source": [
    "import numpy as np\n",
    "import pandas as pd\n",
    "import respy as rp\n",
    "import itertools\n",
    "import copy\n",
    "\n",
    "from respy.pre_processing.model_processing import process_params_and_options\n",
    "from respy.state_space import _create_core_and_indexer, create_state_space_class\n",
    "from respy.pre_processing.process_covariates import separate_covariates_into_core_dense_mixed"
   ]
  },
  {
   "cell_type": "markdown",
   "metadata": {},
   "source": [
    "### Load the example model\n",
    "\n",
    "No exogenous processes for now."
   ]
  },
  {
   "cell_type": "code",
   "execution_count": 16,
   "metadata": {},
   "outputs": [],
   "source": [
    "# Load model.\n",
    "params, options = rp.get_example_model(\"robinson_crusoe_extended\", with_data=False)\n",
    "\n",
    "# Extend with observable characteristic.\n",
    "params.loc[(\"observable_health_well\", \"probability\"), \"value\"] = 0.9\n",
    "params.loc[(\"observable_health_sick\", \"probability\"), \"value\"] = 0.1\n",
    "\n",
    "# Sick people can never work.\n",
    "options[\"inadmissible_choices\"] = {\n",
    "    \"fishing\": [\"health == 'sick'\"],\n",
    "}\n",
    "\n",
    "# Create internal specification objects.\n",
    "optim_paras, options_ = process_params_and_options(params, options)\n"
   ]
  },
  {
   "cell_type": "code",
   "execution_count": 17,
   "metadata": {},
   "outputs": [],
   "source": [
    "options_ = separate_covariates_into_core_dense_mixed(options_, optim_paras)"
   ]
  },
  {
   "cell_type": "markdown",
   "metadata": {},
   "source": [
    "### Pre Processing\n",
    "\n",
    "We want to split the inadmissability contraints in three parts. \n",
    "1. options[\"inadmissable_choices_core\"]: \n",
    "These are choice restrictions that just depend on the core state! \n",
    "- We will apply these choices to create choice sets for each core state. \n",
    "\n",
    "2. options[\"inadmissable_choices_dense\"]:\n",
    "- We will create all dense combinations and we will assign all of these combinations admissable choice sets\n",
    "\n",
    "3. options[\"inadmissable_choices_mixed\"]\n",
    "- We will write a function that transforms the mixed constraints to a constraint on a part of the core sp with a fixed dense comb! "
   ]
  },
  {
   "cell_type": "code",
   "execution_count": 18,
   "metadata": {},
   "outputs": [],
   "source": [
    "def separate_choice_restrictions_into_core_dense_mixed(options, optim_paras):\n",
    "    \"\"\"\n",
    "    This is the simplest version we can possbly think of!\n",
    "    #TODO: Align with separation of covariates. If possible unify both.\n",
    "    If not try to synchronize as far as possible!\n",
    "    \"\"\"\n",
    "    options = copy.deepcopy(options)\n",
    "    covariates = options[\"covariates\"]\n",
    "    \n",
    "    # Add ne dict keys\n",
    "    constr_list = list()\n",
    "    for choice in options[\"inadmissible_choices\"].keys():\n",
    "        for choice_constr in options[\"inadmissible_choices\"][choice]:\n",
    "            if any(x in choice_constr for x in options[\"covariates_dense\"]) is False:\n",
    "                constr_list.append((choice_constr, choice, \"core\"))    \n",
    "            elif any(x in choice_constr for x in options[\"covariates_core\"]) is False:\n",
    "                constr_list.append((choice_constr, choice, \"dense\"))\n",
    "            else:\n",
    "                constr_list.append((choice_constr, choice, \"mixed\"))        \n",
    "    \n",
    "    for sp in [\"core\", \"dense\", \"mixed\"]:\n",
    "        options[f\"inadmissible_choices_{sp}\"] = {}\n",
    "        for choice in options[\"inadmissible_choices\"].keys():\n",
    "            relevant_contraints = [ x for x in constr_list if x[1]==choice and x[2]==sp]\n",
    "            if relevant_contraints == []:\n",
    "                pass\n",
    "            else:\n",
    "                options[f\"inadmissible_choices_{sp}\"][choice] = relevant_contraints\n",
    "    return options\n",
    "\n"
   ]
  },
  {
   "cell_type": "code",
   "execution_count": null,
   "metadata": {},
   "outputs": [],
   "source": [
    "options_ = separate_choice_restrictions_into_core_dense_mixed(options, optim_paras)"
   ]
  },
  {
   "cell_type": "markdown",
   "metadata": {},
   "source": [
    "### Create object for the initialization of the sub state spaces\n",
    "\n",
    "We want to define methods that alow us to create objects that we can \n",
    "base our state space construction upon! \n",
    "\n",
    "Therefore we will create the core Sp as before. We will use the choice restrictions to create a dict that contains a choice/period comb as keys and the corresponding part of the core sp df as value!\n",
    "\n",
    "We will also apply constraints to the dense sp!\n",
    "\n",
    "Therafter we will combine the information and apply mixed constraints. \n",
    "In the end we want a dict that contains (period, choice_set, dense_point): np.array([indexes])\n",
    "\n",
    "\n"
   ]
  },
  {
   "cell_type": "code",
   "execution_count": 251,
   "metadata": {},
   "outputs": [],
   "source": [
    "def _create_choice_sets(df, optim_paras, options, category):\n",
    "    \"\"\"\n",
    "    Todo: Check to which extent we can use the same procedure for \n",
    "    core and dense\n",
    "    \"\"\"\n",
    "    df = df.copy()\n",
    "    \n",
    "    # Apply user-defined constraints\n",
    "    for choice in optim_paras[\"choices\"]:\n",
    "        df[choice] = False\n",
    "    \n",
    "    for choice in options[f\"inadmissible_choices_{category}\"].keys():\n",
    "        for formula in options[f\"inadmissible_choices_{category}\"][choice]:\n",
    "            try: \n",
    "                df[choice] |= df.eval(formula)\n",
    "            except pd.core.computation.ops.UndefinedVariableError:\n",
    "                pass\n",
    "    return df\n",
    "\n",
    "def _split_core_ssp(core):\n",
    "    \"\"\"\n",
    "    This function splits the sp according to period and choice set\n",
    "    \"\"\"\n",
    "    periodic_cores = {idx: sub for idx, sub in core_.groupby(\"period\")}\n",
    "    periodic_choice_cores = {(period, choice_set): sub \n",
    "                           for period in periodic_cores\n",
    "                           for choice_set, sub \n",
    "                           in periodic_cores[period].groupby(list(optim_paras[\"choices\"]))\n",
    "                          }\n",
    "    return periodic_choice_cores\n",
    "\n",
    "\n",
    "def _get_subspace_of_choice(choice_set):\n",
    "    out = []\n",
    "    choice_set = np.array(choice_set)\n",
    "    check = np.where(choice_set)\n",
    "    for x in itertools.combinations_with_replacement([True, False],len(choice_set)):\n",
    "        if all(y is True for y in np.array(x)[check]):\n",
    "            out.append(x)\n",
    "        else:\n",
    "            pass\n",
    "    return out\n",
    "\n",
    "    \n",
    "def _create_base_sp(period_choice_cores, dense_df, options, optim_paras):\n",
    "    \"\"\"\n",
    "    This function should directly give us a number of indices after all!\n",
    "    TODO: Major cleanup. Way to complicated for now! \n",
    "    \"\"\"\n",
    "    state_space = {}\n",
    "    for (period, choice_set), df in period_choice_cores.items():\n",
    "        for dense_state in dense_df.index:\n",
    "            admissible_choices = _get_subspace_of_choice(\n",
    "                dense_df.loc[dense_state,list(optim_paras[\"choices\"].keys())].to_numpy())\n",
    "            \n",
    "            if choice_set in admissible_choices: \n",
    "                df_ = df.copy().assign(\n",
    "                    **dense_df.drop(\n",
    "                        columns=optim_paras[\"choices\"].keys()).loc[dense_state].to_dict())\n",
    "                df_ = _create_choice_sets(\n",
    "                    df_,\n",
    "                    optim_paras,\n",
    "                    options,\n",
    "                    \"mixed\"\n",
    "                )\n",
    "               \n",
    "                for choice_set_, sub_df in df_.groupby(list(optim_paras[\"choices\"])):\n",
    "                    #Here we want to assign an index\n",
    "                    state_space[(period, choice_set_, dense_state)] = sub_df.index\n",
    "    return state_space\n"
   ]
  },
  {
   "cell_type": "code",
   "execution_count": 255,
   "metadata": {},
   "outputs": [],
   "source": [
    "state_space = _create_base_sp(period_choice_cores, dense_, options_, optim_paras)"
   ]
  },
  {
   "cell_type": "markdown",
   "metadata": {},
   "source": [
    "### Plug things together!\n",
    "\n",
    "Duplicate each part with all dense vectors and re-compute `is_inadmissible` with the dense information. This is necessary because observables may block a choice. This gives us the final combination between dense vectors, choice sets and parts of the core state space."
   ]
  },
  {
   "cell_type": "code",
   "execution_count": 12,
   "metadata": {},
   "outputs": [
    {
     "data": {
      "text/plain": [
       "[(0,), (1,)]"
      ]
     },
     "execution_count": 12,
     "metadata": {},
     "output_type": "execute_result"
    }
   ],
   "source": [
    "core, indexer = _create_core_and_indexer(optim_paras, options_)"
   ]
  },
  {
   "cell_type": "code",
   "execution_count": 14,
   "metadata": {},
   "outputs": [
    {
     "ename": "NameError",
     "evalue": "name 'period_choice_cores' is not defined",
     "output_type": "error",
     "traceback": [
      "\u001b[0;31m---------------------------------------------------------------------------\u001b[0m",
      "\u001b[0;31mNameError\u001b[0m                                 Traceback (most recent call last)",
      "\u001b[0;32m<ipython-input-14-3a3ab5b247b1>\u001b[0m in \u001b[0;36m<module>\u001b[0;34m\u001b[0m\n\u001b[1;32m      1\u001b[0m \u001b[0mstate_space\u001b[0m \u001b[0;34m=\u001b[0m \u001b[0;34m{\u001b[0m\u001b[0;34m}\u001b[0m\u001b[0;34m\u001b[0m\u001b[0;34m\u001b[0m\u001b[0m\n\u001b[0;32m----> 2\u001b[0;31m \u001b[0;32mfor\u001b[0m \u001b[0;34m(\u001b[0m\u001b[0mperiod\u001b[0m\u001b[0;34m,\u001b[0m \u001b[0mchoice_set\u001b[0m\u001b[0;34m)\u001b[0m\u001b[0;34m,\u001b[0m \u001b[0mdf\u001b[0m \u001b[0;32min\u001b[0m \u001b[0mperiod_choice_cores\u001b[0m\u001b[0;34m.\u001b[0m\u001b[0mitems\u001b[0m\u001b[0;34m(\u001b[0m\u001b[0;34m)\u001b[0m\u001b[0;34m:\u001b[0m\u001b[0;34m\u001b[0m\u001b[0;34m\u001b[0m\u001b[0m\n\u001b[0m\u001b[1;32m      3\u001b[0m     \u001b[0;32mfor\u001b[0m \u001b[0mdense_vector\u001b[0m\u001b[0;34m,\u001b[0m \u001b[0mdense_covs\u001b[0m \u001b[0;32min\u001b[0m \u001b[0mdense_covariates\u001b[0m\u001b[0;34m.\u001b[0m\u001b[0mitems\u001b[0m\u001b[0;34m(\u001b[0m\u001b[0;34m)\u001b[0m\u001b[0;34m:\u001b[0m\u001b[0;34m\u001b[0m\u001b[0;34m\u001b[0m\u001b[0m\n\u001b[1;32m      4\u001b[0m         \u001b[0mdf_\u001b[0m \u001b[0;34m=\u001b[0m \u001b[0mdf\u001b[0m\u001b[0;34m.\u001b[0m\u001b[0mcopy\u001b[0m\u001b[0;34m(\u001b[0m\u001b[0;34m)\u001b[0m\u001b[0;34m.\u001b[0m\u001b[0massign\u001b[0m\u001b[0;34m(\u001b[0m\u001b[0;34m**\u001b[0m\u001b[0mdense_covs\u001b[0m\u001b[0;34m)\u001b[0m\u001b[0;34m\u001b[0m\u001b[0;34m\u001b[0m\u001b[0m\n\u001b[1;32m      5\u001b[0m         \u001b[0mdf_\u001b[0m \u001b[0;34m=\u001b[0m \u001b[0m_create_is_inadmissible\u001b[0m\u001b[0;34m(\u001b[0m\u001b[0mdf_\u001b[0m\u001b[0;34m,\u001b[0m \u001b[0moptim_paras\u001b[0m\u001b[0;34m,\u001b[0m \u001b[0moptions_\u001b[0m\u001b[0;34m)\u001b[0m\u001b[0;34m\u001b[0m\u001b[0;34m\u001b[0m\u001b[0m\n",
      "\u001b[0;31mNameError\u001b[0m: name 'period_choice_cores' is not defined"
     ]
    }
   ],
   "source": [
    "def create_sp():\n",
    "    \"\"\"\n",
    "    Define a function that calls all the prior methods to create something \n",
    "    that looks like a sp! \n",
    "    \"\"\"\n",
    "    # We create the full core first! (Do we have to create covariates here?)\n",
    "    core, indexer = _create_core_and_indexer(optim_paras, options_)\n",
    "    \n",
    "    #We apply all inadmissable states \n",
    "    core = _create_choice_sets(core, options, optim_paras, \"core\")\n",
    "    period_choice_cores = _split_core_ssp\n",
    "    \n",
    "    #Create dense sp!\n",
    "    dense_grid = rp.state_space._create_dense_state_space_grid(optim_paras)\n",
    "    dense_cov = rp.state_space._create_dense_state_space_covariates(dense_grid, optim_paras, options_)\n",
    "    dense_df = pd.DataFrame(dense_cov).transpose()\n",
    "    dense_choice_sets = _create_choice_sets(dense_df, options, optim_paras, \"dense\")\n",
    "    \n",
    "    #Plug both together\n",
    "    \n",
    "    \n",
    "    #Initialize all series\n",
    "    #Call classes below \n",
    "    "
   ]
  },
  {
   "cell_type": "markdown",
   "metadata": {},
   "source": [
    "### The state space indices\n",
    "\n",
    "This is the base object that contains most of the information to properly seperate the information between different class instances!"
   ]
  },
  {
   "cell_type": "code",
   "execution_count": 11,
   "metadata": {},
   "outputs": [
    {
     "data": {
      "text/plain": [
       "{(0, (True, False, False), (0,)): (0, (False, False, False)),\n",
       " (0, (False, False, False), (1,)): (0, (False, False, False)),\n",
       " (1, (True, False, False), (0,)): (1, (False, False, False)),\n",
       " (1, (False, False, False), (1,)): (1, (False, False, False)),\n",
       " (2, (True, False, False), (0,)): (2, (False, False, False)),\n",
       " (2, (False, False, False), (1,)): (2, (False, False, False)),\n",
       " (3, (True, False, False), (0,)): (3, (False, False, False)),\n",
       " (3, (False, False, False), (1,)): (3, (False, False, False)),\n",
       " (4, (True, False, False), (0,)): (4, (False, False, False)),\n",
       " (4, (False, False, False), (1,)): (4, (False, False, False)),\n",
       " (5, (True, False, False), (0,)): (5, (False, False, False)),\n",
       " (5, (False, False, False), (1,)): (5, (False, False, False)),\n",
       " (6, (True, False, False), (0,)): (6, (False, False, False)),\n",
       " (6, (False, False, False), (1,)): (6, (False, False, False)),\n",
       " (7, (True, False, False), (0,)): (7, (False, False, False)),\n",
       " (7, (False, False, False), (1,)): (7, (False, False, False)),\n",
       " (8, (True, False, False), (0,)): (8, (False, False, False)),\n",
       " (8, (False, False, False), (1,)): (8, (False, False, False)),\n",
       " (9, (True, False, False), (0,)): (9, (False, False, False)),\n",
       " (9, (False, False, False), (1,)): (9, (False, False, False))}"
      ]
     },
     "execution_count": 11,
     "metadata": {},
     "output_type": "execute_result"
    }
   ],
   "source": [
    "state_space"
   ]
  },
  {
   "cell_type": "markdown",
   "metadata": {},
   "source": [
    "### The SubStateSpace\n",
    "\n",
    "The idea is that the the state space has three levels: \n",
    "- _MultiDimStateSpace: This is the highest level. Takes the core, the indexer and the period_choice_dense core indexer. It then just creates one instance of the lower class for each dense covariate and distributes information accordingly. (Not a lot changes here)\n",
    "-_SingleDimStateSpace: This state space manages one single core sp. \n",
    "It creates one instance of the lower class for each choice set that appears and distributes information accordingly. \n",
    "This object has a different role than before. Importantly some attributes are also changed by operations from the lower classes!\n",
    "-ChoiceSetSpace:\n",
    "This class is the lowest object. It receives the indices of core states that belong to each choice set in every period. \n",
    "Al information like wages is assigned to this lowest class since it is only processed there. For continuation values the class however draws on the SingleDimsSP since it is possible that child states have differet choice sets"
   ]
  },
  {
   "cell_type": "code",
   "execution_count": null,
   "metadata": {},
   "outputs": [],
   "source": [
    "#We try to get the easiest workflow!\n",
    "#This will inplace change the cont value array\n",
    "class _ChoiceSetSpace(_BaseStateSpace):\n",
    "    \"\"\"\n",
    "    This is just a bundle of methods that should calculate \n",
    "    \"\"\"\n",
    "    def __init__(\n",
    "    choice_set,\n",
    "    period_cores,\n",
    "    continuation_values, \n",
    "    base_draws_sol,\n",
    "    optim_paras,\n",
    "    options,\n",
    "    dense_dim=None,\n",
    "    dense_covariates=None,\n",
    "    is_inadmissible=None,\n",
    "    indices_of_child_states=None,\n",
    "    slices_by_periods=None,\n",
    "    \n",
    "        ):\n",
    "        self.dense = dense \n",
    "        self.choice_set = choice_set\n",
    "        self.num_choices = choice_set.count(True)\n",
    "        self.core_dict = core_dict\n",
    "        \n",
    "\n",
    "    def get_continuation_values(self, period, indices=None):\n",
    "        \"\"\"\n",
    "        For now only works with explicit period! \n",
    "        \"\"\"\n",
    "        n_periods = len(self.indexer)\n",
    "\n",
    "        if period == n_periods - 1:\n",
    "            last_slice = self.period_cores[-1]\n",
    "            n_states_last_period = len(last_slice)\n",
    "            continuation_values = np.zeros((n_states_last_period, self.n_choices))\n",
    "\n",
    "        else:\n",
    "            child_indices = self.get_attribute(\"indices_of_child_states\")[self.period_cores[period]][:,choice_set]\n",
    "\n",
    "            mask = child_indices != INDEXER_INVALID_INDEX\n",
    "            valid_indices = np.where(mask, child_indices, 0)\n",
    "            continuation_values = np.where(\n",
    "                mask, self.get_attribute(\"expected_value_functions\")[valid_indices], 0\n",
    "            )\n",
    "        continuation_values[:,self.choice_set]\n",
    "        \n",
    "        return continuation_values\n",
    "    \n",
    "    def get_attribute(self,attr):\n",
    "        return getattr(self, attr)\n",
    "    \n",
    "    def set_attribute(self,attr,value):\n",
    "        self.get_attribute(attribute)[:] = value\n",
    "\n",
    "        "
   ]
  },
  {
   "cell_type": "code",
   "execution_count": 17,
   "metadata": {},
   "outputs": [],
   "source": [
    "class _SingleDimsSpace(_BaseStateSpace):\n",
    "    \"\"\"\n",
    "    We should initialize with child states!\n",
    "    Cont values are something we need tp get the super class for!\n",
    "    \"\"\"\n",
    "\n",
    "    def __init__(\n",
    "        self,\n",
    "        core,\n",
    "        period_choice_cores,\n",
    "        indexer,\n",
    "        base_draws_sol,\n",
    "        optim_paras,\n",
    "        continuation_values,\n",
    "        options,\n",
    "        dense_dim=None,\n",
    "        dense_covariates=None,\n",
    "        is_inadmissible=None,\n",
    "        indices_of_child_states=None,\n",
    "        slices_by_periods=None,\n",
    "    ):\n",
    "        self.dense_dim = dense_dim\n",
    "        self.core = core\n",
    "        self.period_choice_cores = period_choice_cores \n",
    "        self.indexer = indexer\n",
    "        self.dense_covariates = dense_covariates if dense_covariates is not None else {}\n",
    "        self.mixed_covariates = options[\"covariates_mixed\"]\n",
    "        self.base_draws_sol = base_draws_sol\n",
    "        self.slices_by_periods = (\n",
    "            super()._create_slices_by_core_periods()\n",
    "            if slices_by_periods is None\n",
    "            else slices_by_periods\n",
    "        )\n",
    "        self._initialize_attributes(optim_paras)\n",
    "        self.is_inadmissible = (\n",
    "            self._create_is_inadmissible(optim_paras, options)\n",
    "            if is_inadmissible is None\n",
    "            else is_inadmissible\n",
    "        )\n",
    "        self.indices_of_child_states = (\n",
    "            super()._create_indices_of_child_states(optim_paras)\n",
    "            if indices_of_child_states is None\n",
    "            else indices_of_child_states\n",
    "        )\n",
    "        self.choice_spaces = {choice_set: _ChoiceSetSpace(\n",
    "        choice_set, [period_choice_cores[dense,period, choice_set]) for period in option[\"n_periods\"]]) for choice_set in }\n",
    "    \n",
    "    def get_continuation_values(self,period):\n",
    "        return {\n",
    "            key: sss.get_continuation_values(period, indices)\n",
    "            for key, sss in self.choice_spaces.items()\n",
    "        }\n",
    "        \n",
    "    def get_attribute(self, attr):\n",
    "        \"\"\"Get an attribute of the state space.\"\"\"\n",
    "        return getattr(self, attr)\n",
    "\n",
    "    \n",
    "    def get_attribute_from_period_choice(self, attribute, period, choice):\n",
    "        attr = self.get_attribute(attribute)\n",
    "        slice_ = self.cores[(period, choice)]\n",
    "        out = attr[slice_]\n",
    "        \n",
    "        return out\n",
    "        \n",
    "    def set_attribute(self, attribute, value):\n",
    "        self.get_attribute(attribute)[:] = value\n",
    "    \n",
    "    def set_attribute_choice_sets_private(self, attribute, value):\n",
    "        for key,ssp in self.choice_spaces.items():\n",
    "            ssp.set_attribute(self, attribute, value[key])\n",
    "\n",
    "    def set_attribute_from_period_choice_set(self, attribute, value, period):\n",
    "        self.get_attribute_from_period_choice(attribute, period)[:] = value\n",
    "    \n",
    "    @property\n",
    "    def states(self):\n",
    "        states = self.core.copy().assign(**self.dense_covariates)\n",
    "        states = compute_covariates(states, self.mixed_covariates)\n",
    "        return states\n",
    "\n"
   ]
  },
  {
   "cell_type": "code",
   "execution_count": null,
   "metadata": {},
   "outputs": [],
   "source": [
    "class _MultiDimStateSpace(_BaseStateSpace):\n",
    "    \"\"\"The state space of a discrete choice dynamic programming model.\n",
    "    This class wraps the whole state space of the model.\n",
    "    In this case we take the whole seperated choice space and create individual objects for each \n",
    "    dense option. Operations are still seperated and thus the old logic still largely applies. \n",
    "    Down the road we might want to redcue the number of input variables since this looks a bit confusing now \n",
    "    \"\"\"\n",
    "\n",
    "    def __init__(self, core, period_choice_dense_cores, indexer, base_draws_sol, optim_paras, options, dense):\n",
    "        self.base_draws_sol = base_draws_sol\n",
    "        self.core = core\n",
    "        self.indexer = indexer\n",
    "        self.is_inadmissible = super()._create_is_inadmissible(optim_paras, options)\n",
    "        self.indices_of_child_states = super()._create_indices_of_child_states(\n",
    "            optim_paras\n",
    "        )\n",
    "        self.period_choice_dense_cores = period_choice_dense_cores\n",
    "        self.sub_state_spaces = {\n",
    "            dense_dim: _SingleDimStateSpace(\n",
    "                self.core,\n",
    "                self.indexer,\n",
    "                {key:self.period_choice_dense_cores[key] for key in self.period_choice_dense_cores.keys() if key[0]==dense_dim }\n",
    "                self.base_draws_sol,\n",
    "                optim_paras,\n",
    "                options,\n",
    "                dense_dim,\n",
    "                dense_covariates,\n",
    "                self.is_inadmissible,\n",
    "                self.indices_of_child_states,\n",
    "                self.slices_by_periods,\n",
    "            )\n",
    "            for dense_dim, dense_covariates in dense.items()\n",
    "        }\n",
    "        \n",
    "\n",
    "    def get_attribute(self, attribute):\n",
    "        return {\n",
    "            key: sss.get_attribute(attribute)\n",
    "            for key, sss in self.sub_state_spaces.items()\n",
    "        }\n",
    "\n",
    "    def get_attribute_from_choice_set_private(self, attribute, period):\n",
    "                return {\n",
    "            key: sss.set_attribute_choice_sets_private(attribute, period)\n",
    "            for key, sss in self.sub_state_spaces.items()\n",
    "        }\n",
    "    \n",
    "    def get_attribute_from_period_choice_set(self, attribute, period):\n",
    "        return {\n",
    "            key: sss.get_attribute_from_period(attribute, period)\n",
    "            for key, sss in self.sub_state_spaces.items()\n",
    "        }\n",
    "    \n",
    "    def get_continuation_values(self, period, indices=None):\n",
    "        return {\n",
    "            key: sss.get_continuation_values(period, indices)\n",
    "            for key, sss in self.sub_state_spaces.items()\n",
    "        }\n",
    "    \n",
    "    def set_attribute(self, attribute, value):\n",
    "        for key, sss in self.sub_state_spaces.items():\n",
    "            sss.set_attribute(attribute, value[key])\n",
    "\n",
    "    def set_attribute_from_choice_set_private(self, attribute,choice_set, value):\n",
    "         for key, sss in self.sub_state_spaces.items():\n",
    "                sss.set_attribute_from_choice_set_private(attribute,choice_set,value[key])\n",
    "                    \n",
    "    \n",
    "    def set_attribute_from_period_choice_set(self, attribute, period, choice_set, value):\n",
    "        for key, sss in self.sub_state_spaces.items():\n",
    "                sss.set_attribute_from_choice_set_private(attribute,choice_set,value[key])\n",
    "        \n",
    "        \n",
    "    @property\n",
    "    def states(self):\n",
    "        return {key: sss.states for key, sss in self.sub_state_spaces.items()}"
   ]
  },
  {
   "cell_type": "code",
   "execution_count": 17,
   "metadata": {},
   "outputs": [],
   "source": [
    "class _BaseStateSpace:\n",
    "    \"\"\"The base class of a state space.\n",
    "    The base class includes some methods which should be available to both state spaces\n",
    "    and are shared between multiple sub state spaces.\n",
    "    \"\"\"\n",
    "\n",
    "    def _create_indices_of_child_states(self, optim_paras):\n",
    "        \"\"\"For each parent state get the indices of child states.\n",
    "        During the backward induction, the ``expected_value_functions`` in the future\n",
    "        period serve as the ``continuation_values`` of the current period. As the\n",
    "        indices for child states never change, these indices can be precomputed and\n",
    "        added to the state_space.\n",
    "        Actually, the indices of the child states do not have to cover the last period,\n",
    "        but it makes the code prettier and reduces the need to expand the indices in the\n",
    "        estimation.\n",
    "        \"\"\"\n",
    "        n_choices = len(optim_paras[\"choices\"])\n",
    "        n_choices_w_exp = len(optim_paras[\"choices_w_exp\"])\n",
    "        n_periods = optim_paras[\"n_periods\"]\n",
    "        n_states = self.core.shape[0]\n",
    "        core_columns = create_core_state_space_columns(optim_paras)\n",
    "\n",
    "        indices = np.full(\n",
    "            (n_states, n_choices), INDEXER_INVALID_INDEX, dtype=INDEXER_DTYPE\n",
    "        )\n",
    "\n",
    "        # Skip the last period which does not have child states.\n",
    "        for period in reversed(range(n_periods - 1)):\n",
    "            states_in_period = self.core.query(\"period == @period\")[\n",
    "                core_columns\n",
    "            ].to_numpy(dtype=np.int8)\n",
    "\n",
    "            indices = _insert_indices_of_child_states(\n",
    "                indices,\n",
    "                states_in_period,\n",
    "                self.indexer[period],\n",
    "                self.indexer[period + 1],\n",
    "                self.is_inadmissible,\n",
    "                n_choices_w_exp,\n",
    "                optim_paras[\"n_lagged_choices\"],\n",
    "            )\n",
    "\n",
    "        return indices"
   ]
  },
  {
   "cell_type": "markdown",
   "metadata": {},
   "source": [
    "## StateSpace Utils\n",
    "This contains all functions that are required.\n"
   ]
  },
  {
   "cell_type": "markdown",
   "metadata": {},
   "source": [
    "### The StateSpace\n",
    "\n",
    "Next, the StateSpace. Define another class"
   ]
  },
  {
   "cell_type": "code",
   "execution_count": 19,
   "metadata": {},
   "outputs": [],
   "source": [
    "class StateSpace:\n",
    "    def __init__():\n",
    "        pass"
   ]
  },
  {
   "cell_type": "markdown",
   "metadata": {},
   "source": [
    "### Get indices of child states\n",
    "\n",
    "Before, the state space indices above on the lhs should be converted to integers for simplicity.\n",
    "\n",
    "Then, we need to modify the current indexer because for each state we have to store the index of the sub state space and the row of its successor. Solutions:\n",
    "\n",
    "1. Same indexer, but indexing yields a tuple containing the index of the part and the row. But the indexer is consumes lots of unnecessary memory for sparse state spaces.\n",
    "2. Something new: Take all states from one `SubStateSpace` and update the states choosing one choice from the choice set. Then, look for duplicates with states in the next period. It is currently not a feature of pd.duplicated to see which rows are connected as duplicates, but part of the implementation is [pd.factorize](https://pandas.pydata.org/pandas-docs/stable/reference/api/pandas.factorize.html). Then, take only rows which have a duplicated factorial. Take the last (if you appended the future period) duplicated value. Save the choice set and row index from the future in to the former period. This even works if two states have the same successor.\n",
    "\n",
    "The second solution is definitely the way to go in the future as the indexer of KW97 still takes at least 1GB or even more."
   ]
  },
  {
   "cell_type": "code",
   "execution_count": 20,
   "metadata": {},
   "outputs": [
    {
     "data": {
      "text/plain": [
       "(array([0, 1, 0], dtype=int64), array([(1, 2), (2, 3)], dtype=object))"
      ]
     },
     "execution_count": 20,
     "metadata": {},
     "output_type": "execute_result"
    }
   ],
   "source": [
    "pd.factorize([(1, 2), (2, 3), (1, 2)])"
   ]
  },
  {
   "cell_type": "markdown",
   "metadata": {},
   "source": [
    "### Calculation of covariates"
   ]
  },
  {
   "cell_type": "code",
   "execution_count": null,
   "metadata": {},
   "outputs": [],
   "source": []
  },
  {
   "cell_type": "markdown",
   "metadata": {},
   "source": [
    "### Solution\n",
    "\n",
    "Then, we are ready to modify the solution.\n",
    "\n",
    "1. Change `_create_choice_rewards` such that only the rewards of choices in the choice set are computed.\n",
    "2. Implement a new `get_continuation_values` function for the `StateSpace`.\n",
    "3. Run the backward induction."
   ]
  },
  {
   "cell_type": "markdown",
   "metadata": {},
   "source": [
    "I think we would want to loop over all period, state, dense combs and calculate their corresponding continuation values!\n",
    "How should we realize that. Would we want these simple states to have "
   ]
  },
  {
   "cell_type": "code",
   "execution_count": null,
   "metadata": {},
   "outputs": [],
   "source": [
    "#Think"
   ]
  },
  {
   "cell_type": "markdown",
   "metadata": {},
   "source": [
    "### Archive"
   ]
  },
  {
   "cell_type": "code",
   "execution_count": 35,
   "metadata": {},
   "outputs": [],
   "source": [
    "# Maybe a hint for the performance if we need to collect continuation values from successors.\n",
    "# The parts are not correct, but in total this should resemble KW97. We definitely take a hit here,\n",
    "# but save it as memory and runtime in MCS in other parts. With jit, we might get some more performance.\n",
    "\n",
    "n_parts = 4\n",
    "n_states_per_part = 14_000_000\n",
    "\n",
    "emax = {i: np.arange(n_states_per_part) for i in range(n_parts)}\n",
    "continuation_values = np.empty((n_parts, n_states_per_part))"
   ]
  },
  {
   "cell_type": "code",
   "execution_count": 36,
   "metadata": {},
   "outputs": [
    {
     "name": "stdout",
     "output_type": "stream",
     "text": [
      "27.3 s ± 1.5 s per loop (mean ± std. dev. of 7 runs, 1 loop each)\n"
     ]
    }
   ],
   "source": [
    "%%timeit\n",
    "\n",
    "for i in range(n_parts):\n",
    "    for j in range(n_states_per_part):\n",
    "        continuation_values[i, j] = emax[i][j]"
   ]
  },
  {
   "cell_type": "code",
   "execution_count": 68,
   "metadata": {},
   "outputs": [],
   "source": [
    "# Same with Numba typed dicts (http://numba.pydata.org/numba-doc/dev/reference/pysupported.html#typed-dict).\n",
    "# This cuts runtim to at least a fifth of the other approach.\n",
    "\n",
    "from numba import njit, prange\n",
    "from numba import types\n",
    "from numba.typed import Dict\n",
    "\n",
    "@njit(parallel=True)\n",
    "def _get_continuation_values(emax, continuation_values):\n",
    "    n_parts, n_states_per_part = continuation_values.shape\n",
    "    \n",
    "    for i in prange(n_parts):\n",
    "        for j in prange(n_states_per_part):\n",
    "            continuation_values[i, j] = emax[i][j]\n",
    "            \n",
    "    return continuation_values"
   ]
  },
  {
   "cell_type": "code",
   "execution_count": 69,
   "metadata": {},
   "outputs": [
    {
     "name": "stdout",
     "output_type": "stream",
     "text": [
      "4.27 s ± 132 ms per loop (mean ± std. dev. of 7 runs, 1 loop each)\n"
     ]
    }
   ],
   "source": [
    "%%timeit\n",
    "\n",
    "# The Dict.empty() constructs a typed dictionary.\n",
    "# The key and value typed must be explicitly declared.\n",
    "emax = Dict.empty(\n",
    "    key_type=types.int64,\n",
    "    value_type=types.float64[:],\n",
    ")\n",
    "\n",
    "for i in range(n_parts):\n",
    "    emax[i] = np.arange(n_states_per_part, dtype=\"float64\")\n",
    "continuation_values = np.empty((n_parts, n_states_per_part))\n",
    "\n",
    "continuation_values = _get_continuation_values(emax, continuation_values)"
   ]
  },
  {
   "cell_type": "code",
   "execution_count": 70,
   "metadata": {},
   "outputs": [
    {
     "name": "stdout",
     "output_type": "stream",
     "text": [
      " \n",
      "================================================================================\n",
      " Parallel Accelerator Optimizing:  Function _get_continuation_values, <ipython-\n",
      "input-68-ff857e4f6260> (8)  \n",
      "================================================================================\n",
      "\n",
      "\n",
      "Parallel loop listing for  Function _get_continuation_values, <ipython-input-68-ff857e4f6260> (8) \n",
      "--------------------------------------------------------------|loop #ID\n",
      "@njit(parallel=True)                                          | \n",
      "def _get_continuation_values(emax, continuation_values):      | \n",
      "    n_parts, n_states_per_part = continuation_values.shape    | \n",
      "                                                              | \n",
      "    for i in prange(n_parts):---------------------------------| #6\n",
      "        for j in prange(n_states_per_part):-------------------| #5\n",
      "            continuation_values[i, j] = emax[i][j]            | \n",
      "                                                              | \n",
      "    return continuation_values                                | \n",
      "--------------------------------- Fusing loops ---------------------------------\n",
      "Attempting fusion of parallel loops (combines loops with similar properties)...\n",
      "----------------------------- Before Optimisation ------------------------------\n",
      "Parallel region 0:\n",
      "+--6 (parallel)\n",
      "   +--5 (parallel)\n",
      "\n",
      "\n",
      "--------------------------------------------------------------------------------\n",
      "------------------------------ After Optimisation ------------------------------\n",
      "Parallel region 0:\n",
      "+--6 (parallel)\n",
      "   +--5 (serial)\n",
      "\n",
      "\n",
      " \n",
      "Parallel region 0 (loop #6) had 0 loop(s) fused and 1 loop(s) serialized as part\n",
      " of the larger parallel loop (#6).\n",
      "--------------------------------------------------------------------------------\n",
      "--------------------------------------------------------------------------------\n",
      " \n",
      "---------------------------Loop invariant code motion---------------------------\n",
      "Allocation hoisting:\n",
      "No allocation hoisting found\n",
      "\n",
      "Instruction hoisting:\n",
      "loop #6 has nothing to hoist.\n",
      "No instruction hoisting found\n",
      "--------------------------------------------------------------------------------\n"
     ]
    }
   ],
   "source": [
    "_get_continuation_values.parallel_diagnostics(level=4)"
   ]
  },
  {
   "cell_type": "code",
   "execution_count": 67,
   "metadata": {},
   "outputs": [
    {
     "data": {
      "text/plain": [
       "('b',)"
      ]
     },
     "execution_count": 67,
     "metadata": {},
     "output_type": "execute_result"
    }
   ],
   "source": [
    "# Convert tuples of booleans from choice set to actual choice names.\n",
    "\n",
    "def choice_set_booleans_to_names(booleans, choices):\n",
    "    return tuple(itertools.compress(choices, booleans))\n",
    "\n",
    "choice_set_booleans_to_names([False, True], [\"a\", \"b\"])"
   ]
  }
 ],
 "metadata": {
  "kernelspec": {
   "display_name": "Python 3",
   "language": "python",
   "name": "python3"
  },
  "language_info": {
   "codemirror_mode": {
    "name": "ipython",
    "version": 3
   },
   "file_extension": ".py",
   "mimetype": "text/x-python",
   "name": "python",
   "nbconvert_exporter": "python",
   "pygments_lexer": "ipython3",
   "version": "3.7.6"
  },
  "pycharm": {
   "stem_cell": {
    "cell_type": "raw",
    "metadata": {
     "collapsed": false
    },
    "source": []
   }
  }
 },
 "nbformat": 4,
 "nbformat_minor": 4
}
